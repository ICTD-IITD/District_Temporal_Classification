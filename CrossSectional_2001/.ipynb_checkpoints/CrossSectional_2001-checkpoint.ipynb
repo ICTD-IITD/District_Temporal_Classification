{
 "cells": [
  {
   "cell_type": "code",
   "execution_count": 1,
   "metadata": {},
   "outputs": [],
   "source": [
    "import pandas as pd\n",
    "from sklearn.model_selection import train_test_split\n",
    "from sklearn.pipeline import make_pipeline\n",
    "from sklearn.preprocessing import StandardScaler\n",
    "from sklearn.svm import SVC\n",
    "from sklearn.metrics import f1_score\n",
    "from sklearn.ensemble import RandomForestClassifier"
   ]
  },
  {
   "cell_type": "code",
   "execution_count": 2,
   "metadata": {},
   "outputs": [],
   "source": [
    "filepath  = \"/home/aygupt/Desktop/A.Seth Project/Landset Imagery/Output_Features_and_Labels/2001_districts_quant.csv\""
   ]
  },
  {
   "cell_type": "code",
   "execution_count": 3,
   "metadata": {},
   "outputs": [],
   "source": [
    "df = pd.read_csv (filepath)"
   ]
  },
  {
   "cell_type": "code",
   "execution_count": 4,
   "metadata": {},
   "outputs": [
    {
     "data": {
      "text/plain": [
       "Index(['Unnamed: 0', '0', '1', '2', '3', '4', '5', '6', '7', '8',\n",
       "       ...\n",
       "       '111', '112', '113', '114', '115', '116', '117', '118', '119', '120'],\n",
       "      dtype='object', length=122)"
      ]
     },
     "execution_count": 4,
     "metadata": {},
     "output_type": "execute_result"
    }
   ],
   "source": [
    "df.columns"
   ]
  },
  {
   "cell_type": "code",
   "execution_count": 5,
   "metadata": {},
   "outputs": [],
   "source": [
    "df[\"census_code\"] = df[\"0\"]"
   ]
  },
  {
   "cell_type": "code",
   "execution_count": 6,
   "metadata": {},
   "outputs": [],
   "source": [
    "path_groundtruth = \"/home/aygupt/Desktop/A.Seth Project/Landset Imagery/Output_Features_and_Labels/District - Ground Truth - 2011&2001.csv\"\n",
    "y1 = pd.read_csv(path_groundtruth)\n",
    "\n",
    "path_groundtruth = \"/home/aygupt/Desktop/A.Seth Project/Landset Imagery/Output_Features_and_Labels/FEMP&LIT.csv\"\n",
    "y2 = pd.read_csv(path_groundtruth)\n",
    "\n",
    "y3 = pd.merge(y1,y2,on ='census_code')\n",
    "final = pd.merge(df,y3, on='census_code')"
   ]
  },
  {
   "cell_type": "code",
   "execution_count": 8,
   "metadata": {},
   "outputs": [
    {
     "data": {
      "text/plain": [
       "Index(['census_code', 'EMP_2011', 'EMP_2001', 'MSW_2011', 'MSW_2001',\n",
       "       'BF_2011', 'BF_2001', 'MSL_2011', 'MSL_2001', 'FC_2011', 'FC_2001',\n",
       "       'CHH_2011', 'CHH_2001', 'F_EMP_2001', 'F_EMP_2011', 'ASSET_2011',\n",
       "       'ASSET_2001', 'LIT_2001', 'LIT_2011', 'FEMP_2011', 'FEMP_2001'],\n",
       "      dtype='object')"
      ]
     },
     "execution_count": 8,
     "metadata": {},
     "output_type": "execute_result"
    }
   ],
   "source": [
    "y3.columns"
   ]
  },
  {
   "cell_type": "code",
   "execution_count": 9,
   "metadata": {},
   "outputs": [
    {
     "data": {
      "text/plain": [
       "(593, 143)"
      ]
     },
     "execution_count": 9,
     "metadata": {},
     "output_type": "execute_result"
    }
   ],
   "source": [
    "final.shape"
   ]
  },
  {
   "cell_type": "code",
   "execution_count": 11,
   "metadata": {},
   "outputs": [],
   "source": [
    "X = final[[str(i) for i in range(1,121)]]"
   ]
  },
  {
   "cell_type": "code",
   "execution_count": 12,
   "metadata": {},
   "outputs": [
    {
     "name": "stdout",
     "output_type": "stream",
     "text": [
      "ASSET_2001  =>  0.6493568856113874\n",
      "BF_2001  =>  0.6898701015739291\n",
      "CHH_2001  =>  0.5354203729455238\n",
      "FC_2001  =>  0.6288432747616421\n",
      "MSL_2001  =>  0.6057977251058828\n",
      "MSW_2001  =>  0.6697602978181433\n",
      "LIT_2001  =>  0.4868704047275476\n",
      "FEMP_2001  =>  0.6122066249367261\n"
     ]
    }
   ],
   "source": [
    "#SVC\n",
    "l = ['ASSET_2001','BF_2001','CHH_2001','FC_2001','MSL_2001','MSW_2001','LIT_2001','FEMP_2001']\n",
    "for indicator in l :\n",
    "    y = final[[indicator]]\n",
    "    X_train, X_test, y_train, y_test = train_test_split(X,y, test_size=0.33, random_state=42)\n",
    "    clf = make_pipeline(StandardScaler(), SVC(gamma='auto'))\n",
    "    clf.fit(X_train, y_train.values.ravel())\n",
    "    y_pred = clf.predict(X_test)\n",
    "    print(indicator,\" => \",f1_score(y_test.values.ravel(),y_pred, average='weighted'))"
   ]
  },
  {
   "cell_type": "code",
   "execution_count": 13,
   "metadata": {},
   "outputs": [
    {
     "name": "stdout",
     "output_type": "stream",
     "text": [
      "ASSET_2001  =>  0.7136248183483919\n",
      "BF_2001  =>  0.7613143412832855\n",
      "CHH_2001  =>  0.5977695853479925\n",
      "FC_2001  =>  0.7346377969130504\n",
      "MSL_2001  =>  0.6249286774784285\n",
      "MSW_2001  =>  0.7155225726654298\n",
      "LIT_2001  =>  0.5850373980437946\n",
      "FEMP_2001  =>  0.6218432425733126\n"
     ]
    }
   ],
   "source": [
    "#Random Forest\n",
    "l = ['ASSET_2001','BF_2001','CHH_2001','FC_2001','MSL_2001','MSW_2001','LIT_2001','FEMP_2001']\n",
    "for indicator in l :\n",
    "    y = final[[indicator]]\n",
    "    X_train, X_test, y_train, y_test = train_test_split(X,y, test_size=0.33, random_state=42)\n",
    "    clf=RandomForestClassifier(n_estimators=100)\n",
    "    clf.fit(X_train, y_train.values.ravel())\n",
    "    y_pred = clf.predict(X_test)\n",
    "    print(indicator,\" => \",f1_score(y_test.values.ravel(),y_pred, average='weighted'))"
   ]
  },
  {
   "cell_type": "code",
   "execution_count": null,
   "metadata": {},
   "outputs": [],
   "source": []
  }
 ],
 "metadata": {
  "kernelspec": {
   "display_name": "Python 3",
   "language": "python",
   "name": "python3"
  },
  "language_info": {
   "codemirror_mode": {
    "name": "ipython",
    "version": 3
   },
   "file_extension": ".py",
   "mimetype": "text/x-python",
   "name": "python",
   "nbconvert_exporter": "python",
   "pygments_lexer": "ipython3",
   "version": "3.6.9"
  }
 },
 "nbformat": 4,
 "nbformat_minor": 4
}
